{
 "cells": [
  {
   "cell_type": "code",
   "execution_count": 3,
   "id": "c3b1f8b5",
   "metadata": {},
   "outputs": [
    {
     "name": "stdout",
     "output_type": "stream",
     "text": [
      "\u001b[1m1/1\u001b[0m \u001b[32m━━━━━━━━━━━━━━━━━━━━\u001b[0m\u001b[37m\u001b[0m \u001b[1m0s\u001b[0m 268ms/step\n",
      "[[6.0338993e-03 7.7998161e-01 2.1396168e-01 1.0594837e-06 6.9830060e-07\n",
      "  7.2607581e-06 1.1450890e-06 3.5322621e-06 2.3652308e-06 6.7957494e-06]]\n",
      "Predicted class: 1\n"
     ]
    }
   ],
   "source": [
    "from tensorflow.keras.models import load_model\n",
    "from tensorflow.keras.preprocessing import image\n",
    "import numpy as np\n",
    "\n",
    "model = load_model(\"model.keras\")\n",
    "img = image.load_img(\"test_images_from_internet/healthy.jpeg\", target_size=(128,128))\n",
    "img_array = np.expand_dims(image.img_to_array(img) / 255.0, 0)\n",
    "pred = model.predict(img_array)\n",
    "print(pred)\n",
    "print(\"Predicted class:\", np.argmax(pred))\n"
   ]
  },
  {
   "cell_type": "code",
   "execution_count": null,
   "id": "45e22b67",
   "metadata": {},
   "outputs": [],
   "source": []
  }
 ],
 "metadata": {
  "kernelspec": {
   "display_name": "Python 3",
   "language": "python",
   "name": "python3"
  },
  "language_info": {
   "codemirror_mode": {
    "name": "ipython",
    "version": 3
   },
   "file_extension": ".py",
   "mimetype": "text/x-python",
   "name": "python",
   "nbconvert_exporter": "python",
   "pygments_lexer": "ipython3",
   "version": "3.13.2"
  }
 },
 "nbformat": 4,
 "nbformat_minor": 5
}
